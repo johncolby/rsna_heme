{
 "cells": [
  {
   "cell_type": "code",
   "execution_count": null,
   "metadata": {},
   "outputs": [],
   "source": [
    "import argparse\n",
    "import glob\n",
    "import gluoncv\n",
    "import mxnet as mx\n",
    "import os\n",
    "import pandas as pd\n",
    "\n",
    "from matplotlib import pyplot as plt\n",
    "from mxnet import gluon\n",
    "from mxnet.gluon.data.vision import datasets\n",
    "from tqdm import tqdm_notebook as tqdm\n",
    "\n",
    "import rsna_heme as rsna"
   ]
  },
  {
   "cell_type": "code",
   "execution_count": null,
   "metadata": {},
   "outputs": [],
   "source": [
    "args = argparse.Namespace()\n",
    "\n",
    "# args.params_path = ['../params/resnet50_v2_fold0_2019-10-08_193926/resnet50_v2_fold0_2019-10-08_193926_best.params']\n",
    "args.param_paths = glob.glob(os.path.join('../params/test_bagged', '*.params'))\n",
    "args.n_tta = 3\n",
    "args.data_dir = '/mnt/Data2/datasets/rsna_heme/normalized'\n",
    "args.dcm_dir = '/mnt/Data2/datasets/rsna_heme/stage_1_test_images'\n",
    "args.pred_dir = '../predictions'\n",
    "\n",
    "args.model_name = 'resnet50_V2'\n",
    "args.pretrained = False\n",
    "args.classes = 6\n",
    "\n",
    "args.ctx = [mx.gpu(3)]\n",
    "args.batch_size = 60\n",
    "args.num_workers = 4\n",
    "\n",
    "time_str = rsna.util.get_time()\n",
    "args.save_prefix = os.path.join(args.pred_dir, time_str)"
   ]
  },
  {
   "cell_type": "code",
   "execution_count": null,
   "metadata": {},
   "outputs": [],
   "source": [
    "test_dataset = datasets.ImageRecordDataset(os.path.join(args.data_dir, 'test.rec'), flag=1, transform=rsna.transforms.common_transform)\n",
    "test_data = gluon.data.DataLoader(test_dataset.transform_first(rsna.transforms.train_transform), batch_size=args.batch_size, shuffle=False, num_workers=args.num_workers)"
   ]
  },
  {
   "cell_type": "code",
   "execution_count": null,
   "metadata": {},
   "outputs": [],
   "source": [
    "# sampler = gluon.data.SequentialSampler(10)\n",
    "# test_data = gluon.data.DataLoader(test_dataset.transform_first(rsna.transforms.train_transform), batch_size=args.batch_size, sampler=sampler, num_workers=args.num_workers)\n",
    "# rsna.util.plt_tensor(test_dataset.transform_first(rsna.transforms.train_transform)[1][0])"
   ]
  },
  {
   "cell_type": "code",
   "execution_count": null,
   "metadata": {},
   "outputs": [],
   "source": [
    "plt.imshow(test_dataset[33733][0].asnumpy())"
   ]
  },
  {
   "cell_type": "code",
   "execution_count": null,
   "metadata": {},
   "outputs": [],
   "source": [
    "net = rsna.cnn.get_model(args)"
   ]
  },
  {
   "cell_type": "code",
   "execution_count": null,
   "metadata": {},
   "outputs": [],
   "source": [
    "logger = rsna.logger.Logger(args.save_prefix, 'predictions')\n",
    "\n",
    "probs_all = []\n",
    "for param_path in tqdm(args.param_paths, desc='params'):\n",
    "    net.load_parameters(param_path)\n",
    "    for i in tqdm(range(args.n_tta), desc='tta'):\n",
    "        probs = []\n",
    "        for batch in tqdm(test_data, 'batch'):\n",
    "            data    = gluon.utils.split_and_load(batch[0], ctx_list=args.ctx, batch_axis=0, even_split=False)\n",
    "            outputs = [net(X) for X in data]\n",
    "            probs.append(pd.DataFrame(mx.nd.sigmoid(outputs[0]).asnumpy(), columns=rsna.labels.heme_types))\n",
    "        probs = pd.concat(probs, ignore_index=True)\n",
    "        \n",
    "        probs_all.append(probs)\n",
    "probs_all = pd.concat(probs_all)"
   ]
  },
  {
   "cell_type": "code",
   "execution_count": null,
   "metadata": {},
   "outputs": [],
   "source": [
    "probs = probs_all.groupby(probs_all.index).mean().round(4)"
   ]
  },
  {
   "cell_type": "code",
   "execution_count": null,
   "metadata": {},
   "outputs": [],
   "source": [
    "ids = rsna.labels.ids_from_dir(args.dcm_dir)"
   ]
  },
  {
   "cell_type": "code",
   "execution_count": null,
   "metadata": {},
   "outputs": [],
   "source": [
    "probs = pd.concat([probs, ids.reset_index()], axis=1)"
   ]
  },
  {
   "cell_type": "code",
   "execution_count": null,
   "metadata": {},
   "outputs": [],
   "source": [
    "probs.sort_values(by=['any'], ascending=False)"
   ]
  },
  {
   "cell_type": "code",
   "execution_count": null,
   "metadata": {},
   "outputs": [],
   "source": [
    "probs_long = pd.melt(probs, id_vars='ID', value_name='Label').sort_values(['ID', 'variable'])\n",
    "probs_long['ID'] = probs_long.loc[:, ['ID', 'variable']].apply(lambda x: '_'.join(x), axis=1)\n",
    "probs_long.drop(['variable'], axis=1, inplace=True)"
   ]
  },
  {
   "cell_type": "code",
   "execution_count": null,
   "metadata": {},
   "outputs": [],
   "source": [
    "probs_long"
   ]
  },
  {
   "cell_type": "code",
   "execution_count": null,
   "metadata": {},
   "outputs": [],
   "source": [
    "if not os.path.exists(args.save_prefix):\n",
    "    os.makedirs(args.save_prefix)\n",
    "probs_long.to_csv(os.path.join(args.save_prefix, 'predictions.csv'), index=False)\n",
    "logger.close()"
   ]
  },
  {
   "cell_type": "code",
   "execution_count": null,
   "metadata": {},
   "outputs": [],
   "source": []
  }
 ],
 "metadata": {
  "kernelspec": {
   "display_name": "Python [conda env:rsna_heme]",
   "language": "python",
   "name": "conda-env-rsna_heme-py"
  },
  "language_info": {
   "codemirror_mode": {
    "name": "ipython",
    "version": 3
   },
   "file_extension": ".py",
   "mimetype": "text/x-python",
   "name": "python",
   "nbconvert_exporter": "python",
   "pygments_lexer": "ipython3",
   "version": "3.7.4"
  }
 },
 "nbformat": 4,
 "nbformat_minor": 4
}
