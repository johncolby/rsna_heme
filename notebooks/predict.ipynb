{
 "cells": [
  {
   "cell_type": "code",
   "execution_count": null,
   "metadata": {},
   "outputs": [],
   "source": [
    "import argparse\n",
    "import mxnet as mx\n",
    "import os\n",
    "import pandas as pd\n",
    "\n",
    "from matplotlib import pyplot as plt\n",
    "from mxnet import gluon\n",
    "from mxnet.gluon.data.vision import datasets\n",
    "from tqdm import tqdm_notebook as tqdm\n",
    "\n",
    "import rsna_heme as rsna"
   ]
  },
  {
   "cell_type": "code",
   "execution_count": null,
   "metadata": {},
   "outputs": [],
   "source": [
    "args = argparse.Namespace()\n",
    "\n",
    "args.params_path = '../params/resnet50_v2_fold0_2019-10-08_193926/resnet50_v2_fold0_2019-10-08_193926_best.params'\n",
    "args.data_dir = '/mnt/Data2/datasets/rsna_heme/normalized'\n",
    "args.dcm_dir = '/mnt/Data2/datasets/rsna_heme/stage_1_test_images'\n",
    "args.pred_dir = '../predictions'\n",
    "\n",
    "args.model_name = 'resnet50_V2'\n",
    "args.classes = 6\n",
    "\n",
    "args.ctx = [mx.gpu(3)]\n",
    "args.batch_size = 60\n",
    "args.num_workers = 4\n",
    "\n",
    "time_str = rsna.util.get_time()\n",
    "args.save_prefix = os.path.join(args.pred_dir, time_str)"
   ]
  },
  {
   "cell_type": "code",
   "execution_count": null,
   "metadata": {},
   "outputs": [],
   "source": [
    "if not os.path.exists(args.save_prefix):\n",
    "    os.makedirs(args.save_prefix)"
   ]
  },
  {
   "cell_type": "code",
   "execution_count": null,
   "metadata": {},
   "outputs": [],
   "source": [
    "test_dataset = datasets.ImageRecordDataset(os.path.join(args.data_dir, 'test.rec'), flag=1)\n",
    "test_data = gluon.data.DataLoader(test_dataset.transform_first(rsna.transforms.val_transform), batch_size=args.batch_size, shuffle=False, num_workers=args.num_workers)"
   ]
  },
  {
   "cell_type": "code",
   "execution_count": null,
   "metadata": {},
   "outputs": [],
   "source": [
    "plt.imshow(test_dataset[19][0].asnumpy())"
   ]
  },
  {
   "cell_type": "code",
   "execution_count": null,
   "metadata": {},
   "outputs": [],
   "source": [
    "net = gluon.model_zoo.vision.get_model(args.model_name, pretrained = True)\n",
    "with net.name_scope():\n",
    "    net.output = gluon.nn.Dense(args.classes)\n",
    "net.load_parameters(args.params_path)\n",
    "net.collect_params().reset_ctx(args.ctx)\n",
    "net.hybridize()"
   ]
  },
  {
   "cell_type": "code",
   "execution_count": null,
   "metadata": {},
   "outputs": [],
   "source": [
    "probs = pd.DataFrame(columns=rsna.labels.heme_types)"
   ]
  },
  {
   "cell_type": "code",
   "execution_count": null,
   "metadata": {},
   "outputs": [],
   "source": [
    "for i, batch in enumerate(tqdm(test_data)):\n",
    "    data    = gluon.utils.split_and_load(batch[0], ctx_list=args.ctx, batch_axis=0, even_split=False)\n",
    "    outputs = [net(X) for X in data]\n",
    "    probs = probs.append(pd.DataFrame(mx.nd.sigmoid(outputs[0]).asnumpy().round(3), columns=probs.columns))"
   ]
  },
  {
   "cell_type": "code",
   "execution_count": null,
   "metadata": {},
   "outputs": [],
   "source": [
    "ids = rsna.labels.ids_from_dir(args.dcm_dir)"
   ]
  },
  {
   "cell_type": "code",
   "execution_count": null,
   "metadata": {},
   "outputs": [],
   "source": [
    "probs = pd.concat([probs.reset_index(drop=True), ids.reset_index()], axis=1)"
   ]
  },
  {
   "cell_type": "code",
   "execution_count": null,
   "metadata": {},
   "outputs": [],
   "source": [
    "probs"
   ]
  },
  {
   "cell_type": "code",
   "execution_count": null,
   "metadata": {},
   "outputs": [],
   "source": [
    "probs_long = pd.melt(probs, id_vars='ID', value_name='Label').sort_values(['ID', 'variable'])\n",
    "probs_long['ID'] = probs_long.loc[:, ['ID', 'variable']].apply(lambda x: '_'.join(x), axis=1)\n",
    "probs_long.drop(['variable'], axis=1, inplace=True)"
   ]
  },
  {
   "cell_type": "code",
   "execution_count": null,
   "metadata": {},
   "outputs": [],
   "source": [
    "probs_long.to_csv(os.path.join(args.save_prefix, 'predictions.csv'), index=False)"
   ]
  },
  {
   "cell_type": "code",
   "execution_count": null,
   "metadata": {},
   "outputs": [],
   "source": []
  }
 ],
 "metadata": {
  "kernelspec": {
   "display_name": "Python [conda env:rsna_heme]",
   "language": "python",
   "name": "conda-env-rsna_heme-py"
  },
  "language_info": {
   "codemirror_mode": {
    "name": "ipython",
    "version": 3
   },
   "file_extension": ".py",
   "mimetype": "text/x-python",
   "name": "python",
   "nbconvert_exporter": "python",
   "pygments_lexer": "ipython3",
   "version": "3.7.4"
  }
 },
 "nbformat": 4,
 "nbformat_minor": 4
}
