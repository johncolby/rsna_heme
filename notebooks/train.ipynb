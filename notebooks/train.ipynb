{
 "cells": [
  {
   "cell_type": "code",
   "execution_count": null,
   "metadata": {},
   "outputs": [],
   "source": [
    "import argparse\n",
    "import mxnet as mx\n",
    "import os\n",
    "import pandas as pd\n",
    "\n",
    "from tqdm import tqdm as tqdm\n",
    "\n",
    "import rsna_heme as rsna"
   ]
  },
  {
   "cell_type": "code",
   "execution_count": null,
   "metadata": {},
   "outputs": [],
   "source": [
    "args = argparse.Namespace()\n",
    "\n",
    "args.base_dir = '/mnt/Data2/datasets/rsna_heme'\n",
    "args.n_splits = 4\n",
    "args.fold = 0\n",
    "args.model_name = 'resnet50_v2'\n",
    "args.pretrained = True\n",
    "args.classes = 6\n",
    "args.ctx = [mx.gpu(0)]\n",
    "args.batch_size = 20\n",
    "args.num_workers = 4\n",
    "args.start_epoch = 0\n",
    "args.epochs = 10\n",
    "args.optimizer = 'adam'\n",
    "args.optimizer_params = {'learning_rate': 0.0001}\n",
    "\n",
    "# Checkpoint\n",
    "args.save_interval = args.epochs\n",
    "args.save_dir = '../params'\n",
    "args.val_interval = 1\n",
    "fold_str = 'fold' + str(args.fold) if hasattr(args, 'fold') else 'foldAll'\n",
    "time_str = rsna.util.get_time()\n",
    "net_name = '_'.join((args.model_name, fold_str, time_str))\n",
    "args.save_prefix = os.path.join(args.save_dir, net_name, net_name)"
   ]
  },
  {
   "cell_type": "code",
   "execution_count": null,
   "metadata": {},
   "outputs": [],
   "source": [
    "train_dataset = mx.gluon.data.vision.datasets.ImageRecordDataset(os.path.join(args.base_dir, 'train.rec'), flag=1, transform=rsna.transforms.common_transform)"
   ]
  },
  {
   "cell_type": "code",
   "execution_count": null,
   "metadata": {},
   "outputs": [],
   "source": [
    "df = pd.read_pickle('labels.pkl')"
   ]
  },
  {
   "cell_type": "code",
   "execution_count": null,
   "metadata": {},
   "outputs": [],
   "source": [
    "net = rsna.cnn.get_model(args)"
   ]
  },
  {
   "cell_type": "code",
   "execution_count": null,
   "metadata": {},
   "outputs": [],
   "source": [
    "train_sampler = rsna.io.CVSampler(groups = df['cv_group'], n_splits = args.n_splits, i_fold = args.fold)\n",
    "val_sampler   = rsna.io.CVSampler(groups = df['cv_group'], n_splits = args.n_splits, i_fold = args.fold, mode = 'test', shuffle = False)"
   ]
  },
  {
   "cell_type": "code",
   "execution_count": null,
   "metadata": {},
   "outputs": [],
   "source": [
    "train_data = mx.gluon.data.DataLoader(train_dataset.transform_first(rsna.transforms.train_transform), batch_size=args.batch_size, sampler=train_sampler, num_workers=args.num_workers)\n",
    "val_data   = mx.gluon.data.DataLoader(train_dataset.transform_first(rsna.transforms.val_transform),   batch_size=args.batch_size, sampler=val_sampler,   num_workers=args.num_workers)"
   ]
  },
  {
   "cell_type": "code",
   "execution_count": null,
   "metadata": {},
   "outputs": [],
   "source": [
    "trainer = mx.gluon.Trainer(net.collect_params(), args.optimizer, args.optimizer_params)\n",
    "loss = mx.gluon.loss.SigmoidBinaryCrossEntropyLoss()"
   ]
  },
  {
   "cell_type": "code",
   "execution_count": null,
   "metadata": {},
   "outputs": [],
   "source": [
    "logger = rsna.logger.Logger(os.path.join(args.save_dir, net_name), net_name)\n",
    "logger.tb_setup()\n",
    "logger.log(args)\n",
    "\n",
    "best_loss = 1\n",
    "for epoch in range(args.epochs):\n",
    "    \n",
    "    train_loss, train_acc = rsna.cnn.process_data(net, loss, tqdm(train_data), args.ctx, trainer=trainer)\n",
    "\n",
    "    # Epoch logging\n",
    "    if (epoch + 1) % args.val_interval == 0:\n",
    "        mx.nd.waitall()\n",
    "        val_loss, val_acc = rsna.cnn.process_data(net, loss, val_data, args.ctx)\n",
    "        metrics = [train_acc, train_loss, val_acc, val_loss]\n",
    "        rsna.logger.log_epoch_hooks(logger, epoch, metrics)\n",
    "        best_loss = rsna.io.save_params(net, best_loss, val_loss, epoch, args.save_interval, args.save_prefix)\n",
    "\n",
    "logger.close()"
   ]
  },
  {
   "cell_type": "code",
   "execution_count": null,
   "metadata": {},
   "outputs": [],
   "source": []
  }
 ],
 "metadata": {
  "kernelspec": {
   "display_name": "Python [conda env:rsna_heme]",
   "language": "python",
   "name": "conda-env-rsna_heme-py"
  },
  "language_info": {
   "codemirror_mode": {
    "name": "ipython",
    "version": 3
   },
   "file_extension": ".py",
   "mimetype": "text/x-python",
   "name": "python",
   "nbconvert_exporter": "python",
   "pygments_lexer": "ipython3",
   "version": "3.7.4"
  }
 },
 "nbformat": 4,
 "nbformat_minor": 4
}
