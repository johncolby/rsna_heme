{
 "cells": [
  {
   "cell_type": "code",
   "execution_count": null,
   "metadata": {},
   "outputs": [],
   "source": [
    "import argparse\n",
    "import datetime\n",
    "import gluoncv\n",
    "import mxnet as mx\n",
    "import numpy as np\n",
    "import os\n",
    "import pandas as pd\n",
    "import time\n",
    "\n",
    "from tqdm import tqdm as tqdm\n",
    "from mxnet import nd, autograd, gluon, image, init\n",
    "from mxnet.gluon.data.vision import datasets\n",
    "\n",
    "import rsna_heme as rsna"
   ]
  },
  {
   "cell_type": "code",
   "execution_count": null,
   "metadata": {},
   "outputs": [],
   "source": [
    "args = argparse.Namespace()\n",
    "\n",
    "args.base_dir = '/mnt/Data2/datasets/rsna_heme'\n",
    "args.n_splits = 4\n",
    "args.fold = 0\n",
    "args.model_name = 'resnet50_v2'\n",
    "args.pretrained = True\n",
    "args.classes = 6\n",
    "args.ctx = [mx.gpu(0)]\n",
    "args.batch_size = 20\n",
    "args.num_workers = 4\n",
    "args.start_epoch = 0\n",
    "args.epochs = 10\n",
    "args.optimizer = 'adam'\n",
    "args.optimizer_params = {'learning_rate': 0.0001}\n",
    "\n",
    "# Checkpoint\n",
    "args.save_interval = args.epochs\n",
    "args.save_dir = '../params'\n",
    "args.val_interval = 1\n",
    "fold_str = 'fold' + str(args.fold) if hasattr(args, 'fold') else 'foldAll'\n",
    "time_str = rsna.util.get_time()\n",
    "net_name = '_'.join((args.model_name, fold_str, time_str))\n",
    "args.save_prefix = os.path.join(args.save_dir, net_name, net_name)"
   ]
  },
  {
   "cell_type": "code",
   "execution_count": null,
   "metadata": {},
   "outputs": [],
   "source": [
    "train_dataset = datasets.ImageRecordDataset(os.path.join(args.base_dir, 'train.rec'), flag=1, transform=rsna.transforms.common_transform)"
   ]
  },
  {
   "cell_type": "code",
   "execution_count": null,
   "metadata": {},
   "outputs": [],
   "source": [
    "df = pd.read_pickle('labels.pkl')"
   ]
  },
  {
   "cell_type": "code",
   "execution_count": null,
   "metadata": {},
   "outputs": [],
   "source": [
    "net = rsna.cnn.get_model(args)"
   ]
  },
  {
   "cell_type": "code",
   "execution_count": null,
   "metadata": {},
   "outputs": [],
   "source": [
    "train_sampler = rsna.io.CVSampler(groups = df['cv_group'], n_splits = args.n_splits, i_fold = args.fold)\n",
    "val_sampler   = rsna.io.CVSampler(groups = df['cv_group'], n_splits = args.n_splits, i_fold = args.fold, mode = 'test', shuffle = False)"
   ]
  },
  {
   "cell_type": "code",
   "execution_count": null,
   "metadata": {},
   "outputs": [],
   "source": [
    "train_data = mx.gluon.data.DataLoader(train_dataset.transform_first(rsna.transforms.train_transform), batch_size=args.batch_size, sampler=train_sampler, num_workers=args.num_workers)\n",
    "val_data   = mx.gluon.data.DataLoader(train_dataset.transform_first(rsna.transforms.val_transform),   batch_size=args.batch_size, sampler=val_sampler,   num_workers=args.num_workers)"
   ]
  },
  {
   "cell_type": "code",
   "execution_count": null,
   "metadata": {},
   "outputs": [],
   "source": [
    "trainer = gluon.Trainer(net.collect_params(), args.optimizer, args.optimizer_params)\n",
    "loss = gluon.loss.SigmoidBinaryCrossEntropyLoss()\n",
    "metric_acc = mx.metric.Accuracy()\n",
    "metric_loss = mx.metric.Loss()"
   ]
  },
  {
   "cell_type": "code",
   "execution_count": null,
   "metadata": {},
   "outputs": [],
   "source": [
    "def test(net, val_data, ctx):\n",
    "    loss = gluon.loss.SigmoidBinaryCrossEntropyLoss()\n",
    "    metric_loss = mx.metric.Loss()\n",
    "    metric_acc = mx.metric.Accuracy()\n",
    "    for i, batch in enumerate(val_data):\n",
    "        weights = nd.ones_like(batch[1]) * nd.array([2, 1, 1, 1, 1, 1])\n",
    "        weights = gluon.utils.split_and_load(weights,  ctx_list=ctx, batch_axis=0, even_split=False)\n",
    "        data    = gluon.utils.split_and_load(batch[0], ctx_list=ctx, batch_axis=0, even_split=False)\n",
    "        label   = gluon.utils.split_and_load(batch[1], ctx_list=ctx, batch_axis=0, even_split=False)\n",
    "\n",
    "        outputs = [net(X) for X in data]\n",
    "        losses = [loss(yhat, y, w) for yhat, y, w in zip(outputs, label, weights)]\n",
    "        \n",
    "        metric_loss.update(label, losses)\n",
    "        metric_acc.update([l[:,0] for l in label], [(nd.sign(o[:,0]) + 1) / 2 for o in outputs])\n",
    "    \n",
    "    _, val_loss = metric_loss.get()\n",
    "    _, val_acc = metric_acc.get()\n",
    "\n",
    "    return [val_loss, val_acc]"
   ]
  },
  {
   "cell_type": "code",
   "execution_count": null,
   "metadata": {},
   "outputs": [],
   "source": [
    "logger, sw = rsna.logging.start_logger(args)\n",
    "\n",
    "lr_counter = 0\n",
    "num_batch = len(train_data)\n",
    "best_loss = 1\n",
    "for epoch in range(args.epochs):\n",
    "    tbar = tqdm(train_data)\n",
    "    \n",
    "    metric_acc.reset()\n",
    "    metric_loss.reset()\n",
    "    for i, batch in enumerate(tbar):\n",
    "        weights = nd.ones_like(batch[1]) * nd.array([2, 1, 1, 1, 1, 1])\n",
    "        weights = gluon.utils.split_and_load(weights,  ctx_list=args.ctx, batch_axis=0, even_split=False)\n",
    "        data    = gluon.utils.split_and_load(batch[0], ctx_list=args.ctx, batch_axis=0, even_split=False)\n",
    "        label   = gluon.utils.split_and_load(batch[1], ctx_list=args.ctx, batch_axis=0, even_split=False)\n",
    "        with autograd.record():\n",
    "            outputs = [net(X) for X in data]\n",
    "            losses = [loss(yhat, y, w) for yhat, y, w in zip(outputs, label, weights)]\n",
    "        for l in losses:\n",
    "            l.backward()\n",
    "\n",
    "        trainer.step(len(batch[0]))\n",
    "        metric_acc.update([l[:,0] for l in label], [(nd.sign(o[:,0]) + 1) / 2 for o in outputs])\n",
    "        metric_loss.update(label, losses)\n",
    "        if i < (len(tbar) - 1):\n",
    "            tbar.set_description('E %d | loss %.4f'%(epoch, metric_loss.get()[1]))\n",
    "\n",
    "    _, train_loss = metric_loss.get()\n",
    "    _, train_acc = metric_acc.get()\n",
    "\n",
    "    # Epoch logging\n",
    "    if (epoch + 1) % args.val_interval == 0:\n",
    "        mx.nd.waitall()\n",
    "        val_loss, val_acc = test(net, val_data, args.ctx)\n",
    "        metrics = [train_acc, train_loss, val_acc, val_loss]\n",
    "        rsna.logging.log_epoch_hooks(epoch, metrics, logger, sw)\n",
    "        best_loss = rsna.io.save_params(net, best_loss, val_loss, epoch, args.save_interval, args.save_prefix)\n",
    "\n",
    "sw.export_scalars(args.save_prefix + '_scalar_dict.json')\n",
    "sw.close()"
   ]
  },
  {
   "cell_type": "code",
   "execution_count": null,
   "metadata": {},
   "outputs": [],
   "source": []
  }
 ],
 "metadata": {
  "kernelspec": {
   "display_name": "Python [conda env:rsna_heme]",
   "language": "python",
   "name": "conda-env-rsna_heme-py"
  },
  "language_info": {
   "codemirror_mode": {
    "name": "ipython",
    "version": 3
   },
   "file_extension": ".py",
   "mimetype": "text/x-python",
   "name": "python",
   "nbconvert_exporter": "python",
   "pygments_lexer": "ipython3",
   "version": "3.7.4"
  }
 },
 "nbformat": 4,
 "nbformat_minor": 4
}
