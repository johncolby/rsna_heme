{
 "cells": [
  {
   "cell_type": "code",
   "execution_count": null,
   "metadata": {},
   "outputs": [],
   "source": [
    "import argparse\n",
    "import mxnet as mx\n",
    "import os\n",
    "import pandas as pd\n",
    "import pickle\n",
    "import re\n",
    "import requests\n",
    "\n",
    "from matplotlib import pyplot as plt\n",
    "from mxnet.gluon.data.vision import datasets\n",
    "\n",
    "import rsna_heme as rsna"
   ]
  },
  {
   "cell_type": "code",
   "execution_count": null,
   "metadata": {},
   "outputs": [],
   "source": [
    "# 13377624, 10020048864, 10020076309, 10020076351\n",
    "acc = '10020076351'\n",
    "\n",
    "endpoint = 'http://localhost:8082/predictions/heme'\n",
    "wl=[(40, 80), (80, 200), (40, 380)]\n",
    "\n",
    "args = argparse.Namespace()\n",
    "args.data_dir = '/mnt/Data2/datasets/rsna_heme/triple100/'"
   ]
  },
  {
   "cell_type": "code",
   "execution_count": null,
   "metadata": {},
   "outputs": [],
   "source": [
    "mri = rsna.app.HemeStudy(acc = acc)\n",
    "mri.setup()\n",
    "mri.download(URL='https://air.radiology.ucsf.edu/api/', cred_path='/home/jcolby/.air_login.txt')\n",
    "mri.setup()"
   ]
  },
  {
   "cell_type": "code",
   "execution_count": null,
   "metadata": {},
   "outputs": [],
   "source": [
    "print(mri)"
   ]
  },
  {
   "cell_type": "code",
   "execution_count": null,
   "metadata": {},
   "outputs": [],
   "source": [
    "dir_series = mri.series_to_path(2)\n",
    "dcm_names = os.listdir(dir_series)"
   ]
  },
  {
   "cell_type": "code",
   "execution_count": null,
   "metadata": {},
   "outputs": [],
   "source": [
    "dcm_names = sorted(dcm_names, key = lambda x: int(re.sub(\".*\\.(.*)\\.dcm\", \"\\\\1\", x)))"
   ]
  },
  {
   "cell_type": "code",
   "execution_count": null,
   "metadata": {},
   "outputs": [],
   "source": [
    "dcm_path = os.path.join(dir_series, dcm_names[21])"
   ]
  },
  {
   "cell_type": "code",
   "execution_count": null,
   "metadata": {},
   "outputs": [],
   "source": [
    "dcm = rsna.dicom.Dicom(dcm_path)"
   ]
  },
  {
   "cell_type": "code",
   "execution_count": null,
   "metadata": {},
   "outputs": [],
   "source": [
    "fig = plt.figure(figsize=(512,512), dpi=1)\n",
    "ax = fig.add_axes([0,0,1,1])\n",
    "ax.axis('off')\n",
    "dcm.plot()"
   ]
  },
  {
   "cell_type": "code",
   "execution_count": null,
   "metadata": {},
   "outputs": [],
   "source": [
    "def _load_dcm(dcm_path):\n",
    "    dcm = rsna.dicom.Dicom(dcm_path)\n",
    "    img = dcm.img_for_plot3(wl)\n",
    "    img, _ = rsna.transforms.common_transform(mx.nd.array(img), 0)\n",
    "    img = img.flip(axis=2)\n",
    "    data = mx.gluon.data.SimpleDataset([(img, 0)])\n",
    "    data = data.transform_first(rsna.transforms.train_transform)\n",
    "    return data"
   ]
  },
  {
   "cell_type": "code",
   "execution_count": null,
   "metadata": {},
   "outputs": [],
   "source": [
    "probs_all = []\n",
    "for dcm_name in dcm_names:\n",
    "    dcm_path = os.path.join(dir_series, dcm_name)\n",
    "    data = _load_dcm(dcm_path)\n",
    "    data_str = pickle.dumps(data[0][0])\n",
    "    prob = requests.post(endpoint, files = {'data': data_str}).json()\n",
    "    probs_all.append(prob)\n",
    "probs = pd.DataFrame(probs_all, columns=rsna.labels.heme_types)"
   ]
  },
  {
   "cell_type": "code",
   "execution_count": null,
   "metadata": {},
   "outputs": [],
   "source": [
    "probs"
   ]
  },
  {
   "cell_type": "code",
   "execution_count": null,
   "metadata": {},
   "outputs": [],
   "source": [
    "dcm_name = dcm_names[21]\n",
    "dcm_path = os.path.join(dir_series, dcm_name)\n",
    "data = _load_dcm(dcm_path)\n",
    "plt.hist(data[0][0][2].asnumpy().flatten())"
   ]
  },
  {
   "cell_type": "code",
   "execution_count": null,
   "metadata": {},
   "outputs": [],
   "source": [
    "fig = plt.figure(figsize=(512,512), dpi=1)\n",
    "ax = fig.add_axes([0,0,1,1])\n",
    "ax.axis('off')\n",
    "ax.imshow(data[0][0][2].asnumpy(), cmap='gray')"
   ]
  },
  {
   "cell_type": "code",
   "execution_count": null,
   "metadata": {},
   "outputs": [],
   "source": [
    "mri.rm_tmp()"
   ]
  },
  {
   "cell_type": "markdown",
   "metadata": {},
   "source": [
    "***\n",
    "# Confirm inference is working by testing a subject from the RSNA dataset"
   ]
  },
  {
   "cell_type": "code",
   "execution_count": null,
   "metadata": {},
   "outputs": [],
   "source": [
    "i = 68556"
   ]
  },
  {
   "cell_type": "code",
   "execution_count": null,
   "metadata": {},
   "outputs": [],
   "source": [
    "test_dataset = datasets.ImageRecordDataset(os.path.join(args.data_dir, 'stage_2_test.rec'), flag=1, transform=rsna.transforms.common_transform)"
   ]
  },
  {
   "cell_type": "code",
   "execution_count": null,
   "metadata": {},
   "outputs": [],
   "source": [
    "fig = plt.figure(figsize=(512,512), dpi=1)\n",
    "ax = fig.add_axes([0,0,1,1])\n",
    "ax.axis('off')\n",
    "ax.imshow(test_dataset[i][0][:,:,2].asnumpy(), cmap='gray')"
   ]
  },
  {
   "cell_type": "code",
   "execution_count": null,
   "metadata": {},
   "outputs": [],
   "source": [
    "test_dataset = test_dataset.transform_first(rsna.transforms.train_transform)"
   ]
  },
  {
   "cell_type": "code",
   "execution_count": null,
   "metadata": {},
   "outputs": [],
   "source": [
    "data_str = pickle.dumps(test_dataset[i][0])\n",
    "requests.post(endpoint, files = {'data': data_str}).json()"
   ]
  },
  {
   "cell_type": "code",
   "execution_count": null,
   "metadata": {},
   "outputs": [],
   "source": [
    "plt.hist(test_dataset[i][0][2].asnumpy().flatten())"
   ]
  },
  {
   "cell_type": "code",
   "execution_count": null,
   "metadata": {},
   "outputs": [],
   "source": []
  }
 ],
 "metadata": {
  "kernelspec": {
   "display_name": "Python [conda env:rsna_heme]",
   "language": "python",
   "name": "conda-env-rsna_heme-py"
  },
  "language_info": {
   "codemirror_mode": {
    "name": "ipython",
    "version": 3
   },
   "file_extension": ".py",
   "mimetype": "text/x-python",
   "name": "python",
   "nbconvert_exporter": "python",
   "pygments_lexer": "ipython3",
   "version": "3.7.4"
  }
 },
 "nbformat": 4,
 "nbformat_minor": 4
}
